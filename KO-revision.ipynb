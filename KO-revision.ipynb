{
 "cells": [
  {
   "cell_type": "code",
   "execution_count": 1,
   "id": "2bbc7088",
   "metadata": {},
   "outputs": [],
   "source": [
    "import pandas as pd"
   ]
  },
  {
   "cell_type": "code",
   "execution_count": 2,
   "id": "8244bc95",
   "metadata": {},
   "outputs": [],
   "source": [
    "class Unitig:\n",
    "    def __init__(self, head, sequence, anomaly):\n",
    "        self.length = len(sequence)\n",
    "        self.head = head\n",
    "        self.sequence = sequence\n",
    "        self.anomaly = anomaly\n",
    "\n",
    "    def __repr__(self):\n",
    "        return f\"{self.head}; len: {self.length} and A: {self.anomaly}\"\n",
    "    \n",
    "    @staticmethod\n",
    "    def extract(path, unitigs):\n",
    "        file = open(path, 'w')\n",
    "        for unitig in unitigs:\n",
    "            file.write(unitig.head + '\\n')\n",
    "            file.write(unitig.sequence + '\\n')\n",
    "        file.close()"
   ]
  },
  {
   "cell_type": "code",
   "execution_count": 3,
   "id": "6b7a8787",
   "metadata": {},
   "outputs": [],
   "source": [
    "info_path = \"/home/Users/ns58/KOMB2/Data/PRJNA878603_SraRunTable.txt\"\n",
    "\n",
    "bucket = {}  # disease length : [SRA IDs]\n",
    "\n",
    "with open(info_path, \"r\") as file:\n",
    "    lines = file.readlines()\n",
    "    iterable = iter(lines)\n",
    "    next(iterable)  # skip first entry\n",
    "    for line in iterable:\n",
    "        data = line[:-1].split(',')  # 0: SRA ID, 24: gender, 29: disease_length\n",
    "        if len(data) < 30:\n",
    "            print(\"ERROR\")\n",
    "            continue\n",
    "        if data[29] not in bucket:\n",
    "            bucket[data[29]] = []\n",
    "        bucket[data[29]].append(data[0])"
   ]
  },
  {
   "cell_type": "code",
   "execution_count": 4,
   "id": "6fb9d412",
   "metadata": {},
   "outputs": [
    {
     "name": "stdout",
     "output_type": "stream",
     "text": [
      "Extracting unitigs for BLAST. In order to run, remove this line\n"
     ]
    }
   ],
   "source": [
    "%%script echo 'Extracting unitigs for BLAST. In order to run, remove this line'\n",
    "\n",
    "top_unitigs_for_blast = []\n",
    "\n",
    "samples = bucket['Control'] + bucket['Long'] + bucket['Short']\n",
    "sample_paths = [f\"/home/Users/ns58/KOMB2/PRJNA878603-Output/{sample}-k51-l150-c2\" for sample in samples]\n",
    "for sample, path in zip(samples, sample_paths):\n",
    "    df = pd.read_csv(f\"{path}/kcore.tsv\", sep='\\t')\n",
    "    anomaly_df = pd.read_csv(f\"{path}/CoreA_anomaly.txt\", sep='\\t', names=['#VID', 'Score'])\n",
    "    combined = pd.merge(df, anomaly_df, on='#VID')\n",
    "    \n",
    "    name_to_score = combined.set_index('Name')['Score'].to_dict()\n",
    "    \n",
    "    unitigs = []\n",
    "    \n",
    "    file = open(f\"{path}/combined.fasta\", 'r')\n",
    "    lines = file.readlines()\n",
    "    file.close()\n",
    "    \n",
    "    for idx in range(0, len(lines), 2):\n",
    "        first_part = lines[idx].split('|')[0]\n",
    "        name = int(first_part.split('_')[1])\n",
    "        \n",
    "        sequence = lines[idx + 1][:-1]\n",
    "        \n",
    "        unitigs.append(Unitig(f\">Unitig_{name}, from sample {sample}\", sequence, name_to_score[name]))\n",
    "        \n",
    "    unitigs.sort(key= lambda unitig:unitig.anomaly, reverse=True)\n",
    "    \n",
    "    top_unitigs_for_blast.extend(unitigs[:10])\n",
    "\n",
    "Unitig.extract(\"/home/Users/mt102/shared/KOMB-revision/BLAST-unitigs.fasta\", top_unitigs_for_blast)\n"
   ]
  },
  {
   "cell_type": "code",
   "execution_count": null,
   "id": "0f6f2a33",
   "metadata": {},
   "outputs": [],
   "source": [
    "reads_ct = []\n",
    "unitigs_ct = []\n",
    "filtered_ct = []\n",
    "conditions = []\n",
    "anomalous_percent = []\n",
    "\n",
    "for sample, path in zip(samples, sample_paths):\n",
    "    "
   ]
  },
  {
   "cell_type": "code",
   "execution_count": null,
   "id": "da5ef443",
   "metadata": {},
   "outputs": [],
   "source": []
  },
  {
   "cell_type": "code",
   "execution_count": null,
   "id": "aa7ff7dd",
   "metadata": {},
   "outputs": [],
   "source": []
  },
  {
   "cell_type": "code",
   "execution_count": null,
   "id": "7080a3df",
   "metadata": {},
   "outputs": [],
   "source": []
  },
  {
   "cell_type": "code",
   "execution_count": null,
   "id": "4c1f30f2",
   "metadata": {},
   "outputs": [],
   "source": []
  }
 ],
 "metadata": {
  "kernelspec": {
   "display_name": "Python 3 (ipykernel)",
   "language": "python",
   "name": "python3"
  },
  "language_info": {
   "codemirror_mode": {
    "name": "ipython",
    "version": 3
   },
   "file_extension": ".py",
   "mimetype": "text/x-python",
   "name": "python",
   "nbconvert_exporter": "python",
   "pygments_lexer": "ipython3",
   "version": "3.10.11"
  }
 },
 "nbformat": 4,
 "nbformat_minor": 5
}
